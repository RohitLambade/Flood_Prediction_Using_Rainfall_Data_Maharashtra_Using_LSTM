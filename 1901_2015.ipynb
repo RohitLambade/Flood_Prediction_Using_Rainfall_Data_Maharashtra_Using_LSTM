{
  "nbformat": 4,
  "nbformat_minor": 0,
  "metadata": {
    "colab": {
      "name": "1901-2015.ipynb",
      "provenance": [],
      "collapsed_sections": []
    },
    "kernelspec": {
      "name": "python3",
      "display_name": "Python 3"
    },
    "accelerator": "GPU"
  },
  "cells": [
    {
      "cell_type": "code",
      "metadata": {
        "id": "yt88ydeAxo8t",
        "colab_type": "code",
        "colab": {}
      },
      "source": [
        "# Part 1 - Data Preprocessing\n",
        "\n",
        "# Importing the libraries\n",
        "import numpy as np\n",
        "import matplotlib.pyplot as plt\n",
        "import pandas as pd\n",
        "import io"
      ],
      "execution_count": null,
      "outputs": []
    },
    {
      "cell_type": "code",
      "metadata": {
        "id": "AXUxy4Fyx05M",
        "colab_type": "code",
        "colab": {
          "resources": {
            "http://localhost:8080/nbextensions/google.colab/files.js": {
              "data": "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",
              "ok": true,
              "headers": [
                [
                  "content-type",
                  "application/javascript"
                ]
              ],
              "status": 200,
              "status_text": ""
            }
          },
          "base_uri": "https://localhost:8080/",
          "height": 73
        },
        "outputId": "08e41047-565b-40bb-a765-e4693cc89860"
      },
      "source": [
        "\n",
        "# Importing the training set\n",
        "from google.colab import files\n",
        "uploaded = files.upload()\n"
      ],
      "execution_count": null,
      "outputs": [
        {
          "output_type": "display_data",
          "data": {
            "text/html": [
              "\n",
              "     <input type=\"file\" id=\"files-cf62fcfd-7319-4736-a249-6de277250e51\" name=\"files[]\" multiple disabled\n",
              "        style=\"border:none\" />\n",
              "     <output id=\"result-cf62fcfd-7319-4736-a249-6de277250e51\">\n",
              "      Upload widget is only available when the cell has been executed in the\n",
              "      current browser session. Please rerun this cell to enable.\n",
              "      </output>\n",
              "      <script src=\"/nbextensions/google.colab/files.js\"></script> "
            ],
            "text/plain": [
              "<IPython.core.display.HTML object>"
            ]
          },
          "metadata": {
            "tags": []
          }
        },
        {
          "output_type": "stream",
          "text": [
            "Saving Maha_1901-2015.csv to Maha_1901-2015.csv\n"
          ],
          "name": "stdout"
        }
      ]
    },
    {
      "cell_type": "code",
      "metadata": {
        "id": "DU7m56oWx-Wy",
        "colab_type": "code",
        "colab": {
          "base_uri": "https://localhost:8080/",
          "height": 34
        },
        "outputId": "63e02183-f113-4ba4-cd9d-e02c46337cf4"
      },
      "source": [
        "dataset_train = pd.read_csv(io.BytesIO(uploaded['Maha_1901-2015.csv']))\n",
        "r = int(input())\n",
        "if r == 1:\n",
        "  i_val = r\n",
        "elif r == 2:\n",
        "  i_val = r\n",
        "elif r == 3:\n",
        "  i_val = r\n",
        "elif r == 4:\n",
        "  i_val = r\n",
        "elif r == 5:\n",
        "  i_val = r\n",
        "training_set = dataset_train.iloc[0:1104, i_val:i_val+1].values"
      ],
      "execution_count": null,
      "outputs": [
        {
          "output_type": "stream",
          "text": [
            "1\n"
          ],
          "name": "stdout"
        }
      ]
    },
    {
      "cell_type": "code",
      "metadata": {
        "id": "A_VDC8f_BH2_",
        "colab_type": "code",
        "colab": {
          "base_uri": "https://localhost:8080/",
          "height": 406
        },
        "outputId": "f6bca307-c49b-496c-bb2f-0837a6a17917"
      },
      "source": [
        "dataset_train"
      ],
      "execution_count": null,
      "outputs": [
        {
          "output_type": "execute_result",
          "data": {
            "text/html": [
              "<div>\n",
              "<style scoped>\n",
              "    .dataframe tbody tr th:only-of-type {\n",
              "        vertical-align: middle;\n",
              "    }\n",
              "\n",
              "    .dataframe tbody tr th {\n",
              "        vertical-align: top;\n",
              "    }\n",
              "\n",
              "    .dataframe thead th {\n",
              "        text-align: right;\n",
              "    }\n",
              "</style>\n",
              "<table border=\"1\" class=\"dataframe\">\n",
              "  <thead>\n",
              "    <tr style=\"text-align: right;\">\n",
              "      <th></th>\n",
              "      <th>YEAR/MONTH</th>\n",
              "      <th>RAINFALL_KONKAN &amp; GOA</th>\n",
              "      <th>RAINFALL_MADHYA MAHARASHTRA</th>\n",
              "      <th>RAINFALL_MARATHVADA</th>\n",
              "      <th>RAINFALL_VIDHARBA</th>\n",
              "      <th>RAINFALL_CHHATTISGARH</th>\n",
              "    </tr>\n",
              "  </thead>\n",
              "  <tbody>\n",
              "    <tr>\n",
              "      <th>0</th>\n",
              "      <td>Jan-01</td>\n",
              "      <td>5.6</td>\n",
              "      <td>18.8</td>\n",
              "      <td>15.8</td>\n",
              "      <td>36.8</td>\n",
              "      <td>48.9</td>\n",
              "    </tr>\n",
              "    <tr>\n",
              "      <th>1</th>\n",
              "      <td>Feb-01</td>\n",
              "      <td>0.1</td>\n",
              "      <td>0.6</td>\n",
              "      <td>3.3</td>\n",
              "      <td>39.9</td>\n",
              "      <td>116.5</td>\n",
              "    </tr>\n",
              "    <tr>\n",
              "      <th>2</th>\n",
              "      <td>Mar-01</td>\n",
              "      <td>0.4</td>\n",
              "      <td>7.7</td>\n",
              "      <td>32.1</td>\n",
              "      <td>30.9</td>\n",
              "      <td>27.8</td>\n",
              "    </tr>\n",
              "    <tr>\n",
              "      <th>3</th>\n",
              "      <td>Apr-01</td>\n",
              "      <td>35.7</td>\n",
              "      <td>36.6</td>\n",
              "      <td>48.5</td>\n",
              "      <td>26.1</td>\n",
              "      <td>5.5</td>\n",
              "    </tr>\n",
              "    <tr>\n",
              "      <th>4</th>\n",
              "      <td>May-01</td>\n",
              "      <td>19.9</td>\n",
              "      <td>30.4</td>\n",
              "      <td>26.5</td>\n",
              "      <td>7.3</td>\n",
              "      <td>18.4</td>\n",
              "    </tr>\n",
              "    <tr>\n",
              "      <th>...</th>\n",
              "      <td>...</td>\n",
              "      <td>...</td>\n",
              "      <td>...</td>\n",
              "      <td>...</td>\n",
              "      <td>...</td>\n",
              "      <td>...</td>\n",
              "    </tr>\n",
              "    <tr>\n",
              "      <th>1375</th>\n",
              "      <td>Aug-15</td>\n",
              "      <td>377.3</td>\n",
              "      <td>67.2</td>\n",
              "      <td>112.2</td>\n",
              "      <td>288.9</td>\n",
              "      <td>286.6</td>\n",
              "    </tr>\n",
              "    <tr>\n",
              "      <th>1376</th>\n",
              "      <td>Sep-15</td>\n",
              "      <td>240.9</td>\n",
              "      <td>146.6</td>\n",
              "      <td>154.3</td>\n",
              "      <td>167.5</td>\n",
              "      <td>216.9</td>\n",
              "    </tr>\n",
              "    <tr>\n",
              "      <th>1377</th>\n",
              "      <td>Oct-15</td>\n",
              "      <td>91.4</td>\n",
              "      <td>48.3</td>\n",
              "      <td>19.5</td>\n",
              "      <td>7.0</td>\n",
              "      <td>17.7</td>\n",
              "    </tr>\n",
              "    <tr>\n",
              "      <th>1378</th>\n",
              "      <td>Nov-15</td>\n",
              "      <td>27.3</td>\n",
              "      <td>16.2</td>\n",
              "      <td>4.8</td>\n",
              "      <td>0.0</td>\n",
              "      <td>0.6</td>\n",
              "    </tr>\n",
              "    <tr>\n",
              "      <th>1379</th>\n",
              "      <td>Dec-15</td>\n",
              "      <td>0.0</td>\n",
              "      <td>0.1</td>\n",
              "      <td>0.0</td>\n",
              "      <td>0.2</td>\n",
              "      <td>1.5</td>\n",
              "    </tr>\n",
              "  </tbody>\n",
              "</table>\n",
              "<p>1380 rows × 6 columns</p>\n",
              "</div>"
            ],
            "text/plain": [
              "     YEAR/MONTH  ...  RAINFALL_CHHATTISGARH\n",
              "0        Jan-01  ...                   48.9\n",
              "1        Feb-01  ...                  116.5\n",
              "2        Mar-01  ...                   27.8\n",
              "3        Apr-01  ...                    5.5\n",
              "4        May-01  ...                   18.4\n",
              "...         ...  ...                    ...\n",
              "1375     Aug-15  ...                  286.6\n",
              "1376     Sep-15  ...                  216.9\n",
              "1377     Oct-15  ...                   17.7\n",
              "1378     Nov-15  ...                    0.6\n",
              "1379     Dec-15  ...                    1.5\n",
              "\n",
              "[1380 rows x 6 columns]"
            ]
          },
          "metadata": {
            "tags": []
          },
          "execution_count": 7
        }
      ]
    },
    {
      "cell_type": "code",
      "metadata": {
        "id": "9ivWNNGfyRkt",
        "colab_type": "code",
        "colab": {
          "base_uri": "https://localhost:8080/",
          "height": 34
        },
        "outputId": "323c714f-ea07-430c-a33f-b1c559e345c8"
      },
      "source": [
        "training_set.size"
      ],
      "execution_count": null,
      "outputs": [
        {
          "output_type": "execute_result",
          "data": {
            "text/plain": [
              "1104"
            ]
          },
          "metadata": {
            "tags": []
          },
          "execution_count": 34
        }
      ]
    },
    {
      "cell_type": "code",
      "metadata": {
        "id": "AuI6yRtUzI6x",
        "colab_type": "code",
        "colab": {}
      },
      "source": [
        "# Feature Scaling\n",
        "from sklearn.preprocessing import MinMaxScaler\n",
        "sc = MinMaxScaler(feature_range = (0, 1))\n",
        "training_set_scaled = sc.fit_transform(training_set)\n",
        "\n",
        "# Creating a data structure with 60 timesteps and 1 output\n",
        "X_train = []\n",
        "y_train = []\n",
        "for i in range(60, 1104):\n",
        "    X_train.append(training_set_scaled[i-60:i, 0])\n",
        "    y_train.append(training_set_scaled[i, 0])\n",
        "X_train, y_train = np.array(X_train), np.array(y_train)\n",
        "\n",
        "# Reshaping\n",
        "X_train = np.reshape(X_train, (X_train.shape[0], X_train.shape[1], 1))"
      ],
      "execution_count": null,
      "outputs": []
    },
    {
      "cell_type": "code",
      "metadata": {
        "id": "lTVd0dMR0JtX",
        "colab_type": "code",
        "colab": {
          "base_uri": "https://localhost:8080/",
          "height": 34
        },
        "outputId": "76a9508e-4182-497b-b84e-66d711bce59a"
      },
      "source": [
        "X_train.size"
      ],
      "execution_count": null,
      "outputs": [
        {
          "output_type": "execute_result",
          "data": {
            "text/plain": [
              "62640"
            ]
          },
          "metadata": {
            "tags": []
          },
          "execution_count": 37
        }
      ]
    },
    {
      "cell_type": "code",
      "metadata": {
        "id": "Imoyyj450Pwv",
        "colab_type": "code",
        "colab": {
          "base_uri": "https://localhost:8080/",
          "height": 52
        },
        "outputId": "6f1e9bc0-7ce1-4f53-d6c8-261ca3b73ad7"
      },
      "source": [
        "y_train"
      ],
      "execution_count": null,
      "outputs": [
        {
          "output_type": "execute_result",
          "data": {
            "text/plain": [
              "array([0.00267781, 0.00048201, 0.        , ..., 0.04230934, 0.00149957,\n",
              "       0.        ])"
            ]
          },
          "metadata": {
            "tags": []
          },
          "execution_count": 38
        }
      ]
    },
    {
      "cell_type": "code",
      "metadata": {
        "id": "wMYlaHJh0h6n",
        "colab_type": "code",
        "colab": {}
      },
      "source": [
        "\n",
        "# Part 2 - Building the RNN\n",
        "\n",
        "# Importing the Keras libraries and packages\n",
        "from keras.models import Sequential\n",
        "from keras.layers import Dense\n",
        "from keras.layers import LSTM\n",
        "from keras.layers import Dropout"
      ],
      "execution_count": null,
      "outputs": []
    },
    {
      "cell_type": "code",
      "metadata": {
        "id": "t8fE18Ex0tsr",
        "colab_type": "code",
        "colab": {
          "base_uri": "https://localhost:8080/",
          "height": 745
        },
        "outputId": "6a5279a8-355b-40ae-fddf-bd33dfc0c6dc"
      },
      "source": [
        "\n",
        "# Initialising the RNN\n",
        "regressor = Sequential()\n",
        "\n",
        "# Adding the first LSTM layer and some Dropout regularisation\n",
        "regressor.add(LSTM(units = 80, return_sequences = True, input_shape = (X_train.shape[1], 1)))\n",
        "regressor.add(Dropout(0.1))\n",
        "\n",
        "# Adding a second LSTM layer and some Dropout regularisation\n",
        "regressor.add(LSTM(units = 80, return_sequences = True))\n",
        "regressor.add(Dropout(0.1))\n",
        "\n",
        "# Adding a third LSTM layer and some Dropout regularisation\n",
        "regressor.add(LSTM(units = 80, return_sequences = True))\n",
        "regressor.add(Dropout(0.1))\n",
        "\n",
        "# Adding a fourth LSTM layer and some Dropout regularisation\n",
        "regressor.add(LSTM(units = 80))\n",
        "regressor.add(Dropout(0.1))\n",
        "\n",
        "# Adding the output layer\n",
        "regressor.add(Dense(units = 1))\n",
        "\n",
        "# Compiling the RNN\n",
        "regressor.compile(optimizer = 'adam', loss = 'mean_squared_error')\n",
        "\n",
        "# Fitting the RNN to the Training set\n",
        "regressor.fit(X_train, y_train, epochs = 20, batch_size = 32)"
      ],
      "execution_count": null,
      "outputs": [
        {
          "output_type": "stream",
          "text": [
            "Epoch 1/20\n",
            "33/33 [==============================] - 1s 16ms/step - loss: 0.0432\n",
            "Epoch 2/20\n",
            "33/33 [==============================] - 1s 16ms/step - loss: 0.0385\n",
            "Epoch 3/20\n",
            "33/33 [==============================] - 1s 15ms/step - loss: 0.0209\n",
            "Epoch 4/20\n",
            "33/33 [==============================] - 1s 16ms/step - loss: 0.0168\n",
            "Epoch 5/20\n",
            "33/33 [==============================] - 1s 16ms/step - loss: 0.0160\n",
            "Epoch 6/20\n",
            "33/33 [==============================] - 1s 16ms/step - loss: 0.0129\n",
            "Epoch 7/20\n",
            "33/33 [==============================] - 1s 15ms/step - loss: 0.0106\n",
            "Epoch 8/20\n",
            "33/33 [==============================] - 1s 16ms/step - loss: 0.0091\n",
            "Epoch 9/20\n",
            "33/33 [==============================] - 1s 15ms/step - loss: 0.0102\n",
            "Epoch 10/20\n",
            "33/33 [==============================] - 1s 16ms/step - loss: 0.0101\n",
            "Epoch 11/20\n",
            "33/33 [==============================] - 0s 15ms/step - loss: 0.0084\n",
            "Epoch 12/20\n",
            "33/33 [==============================] - 1s 16ms/step - loss: 0.0079\n",
            "Epoch 13/20\n",
            "33/33 [==============================] - 0s 15ms/step - loss: 0.0075\n",
            "Epoch 14/20\n",
            "33/33 [==============================] - 1s 16ms/step - loss: 0.0077\n",
            "Epoch 15/20\n",
            "33/33 [==============================] - 0s 15ms/step - loss: 0.0069\n",
            "Epoch 16/20\n",
            "33/33 [==============================] - 1s 16ms/step - loss: 0.0074\n",
            "Epoch 17/20\n",
            "33/33 [==============================] - 0s 15ms/step - loss: 0.0075\n",
            "Epoch 18/20\n",
            "33/33 [==============================] - 1s 16ms/step - loss: 0.0074\n",
            "Epoch 19/20\n",
            "33/33 [==============================] - 0s 15ms/step - loss: 0.0073\n",
            "Epoch 20/20\n",
            "33/33 [==============================] - 1s 16ms/step - loss: 0.0069\n"
          ],
          "name": "stdout"
        },
        {
          "output_type": "execute_result",
          "data": {
            "text/plain": [
              "<tensorflow.python.keras.callbacks.History at 0x7fe2c2457390>"
            ]
          },
          "metadata": {
            "tags": []
          },
          "execution_count": 40
        }
      ]
    },
    {
      "cell_type": "code",
      "metadata": {
        "id": "99nDyGMh04Bs",
        "colab_type": "code",
        "colab": {
          "base_uri": "https://localhost:8080/",
          "height": 34
        },
        "outputId": "21a2ccde-7d8a-4679-921d-f8e9ef9d9cd8"
      },
      "source": [
        "# Part 3 - Making the predictions and visualising the results\n",
        "\n",
        "# Getting the real stock price of 2017\n",
        "#from google.colab import files\n",
        "#uploaded1 = files.upload()\n",
        "i_val"
      ],
      "execution_count": null,
      "outputs": [
        {
          "output_type": "execute_result",
          "data": {
            "text/plain": [
              "5"
            ]
          },
          "metadata": {
            "tags": []
          },
          "execution_count": 13
        }
      ]
    },
    {
      "cell_type": "code",
      "metadata": {
        "id": "janv-3Tc1BHP",
        "colab_type": "code",
        "colab": {}
      },
      "source": [
        "dataset_test = pd.read_csv(io.BytesIO(uploaded['Maha_1901-2015.csv']))\n",
        "dt_1 = dataset_test.iloc[1105:1380, 0].values\n",
        "real_stock_price = dataset_test.iloc[1105:1380, i_val:i_val+1].values"
      ],
      "execution_count": null,
      "outputs": []
    },
    {
      "cell_type": "code",
      "metadata": {
        "id": "hUAQwUSNQwJT",
        "colab_type": "code",
        "colab": {
          "base_uri": "https://localhost:8080/",
          "height": 34
        },
        "outputId": "0382c026-b300-4e71-a636-213534dfb59a"
      },
      "source": [
        "real_stock_price.size"
      ],
      "execution_count": null,
      "outputs": [
        {
          "output_type": "execute_result",
          "data": {
            "text/plain": [
              "275"
            ]
          },
          "metadata": {
            "tags": []
          },
          "execution_count": 42
        }
      ]
    },
    {
      "cell_type": "code",
      "metadata": {
        "id": "dBoCjg2DcyeP",
        "colab_type": "code",
        "colab": {
          "base_uri": "https://localhost:8080/",
          "height": 34
        },
        "outputId": "7c18b0ee-26cc-41f8-b177-2eca49f73e65"
      },
      "source": [
        "dt_1.size"
      ],
      "execution_count": null,
      "outputs": [
        {
          "output_type": "execute_result",
          "data": {
            "text/plain": [
              "275"
            ]
          },
          "metadata": {
            "tags": []
          },
          "execution_count": 43
        }
      ]
    },
    {
      "cell_type": "code",
      "metadata": {
        "id": "qS1RB-2m6_Sw",
        "colab_type": "code",
        "colab": {
          "base_uri": "https://localhost:8080/",
          "height": 834
        },
        "outputId": "f22c120f-588b-4440-e302-9d27a64391e1"
      },
      "source": [
        "dt_1"
      ],
      "execution_count": null,
      "outputs": [
        {
          "output_type": "execute_result",
          "data": {
            "text/plain": [
              "array(['Feb-93', 'Mar-93', 'Apr-93', 'May-93', 'Jun-93', 'Jul-93',\n",
              "       'Aug-93', 'Sep-93', 'Oct-93', 'Nov-93', 'Dec-93', 'Jan-94',\n",
              "       'Feb-94', 'Mar-94', 'Apr-94', 'May-94', 'Jun-94', 'Jul-94',\n",
              "       'Aug-94', 'Sep-94', 'Oct-94', 'Nov-94', 'Dec-94', 'Jan-95',\n",
              "       'Feb-95', 'Mar-95', 'Apr-95', 'May-95', 'Jun-95', 'Jul-95',\n",
              "       'Aug-95', 'Sep-95', 'Oct-95', 'Nov-95', 'Dec-95', 'Jan-96',\n",
              "       'Feb-96', 'Mar-96', 'Apr-96', 'May-96', 'Jun-96', 'Jul-96',\n",
              "       'Aug-96', 'Sep-96', 'Oct-96', 'Nov-96', 'Dec-96', 'Jan-97',\n",
              "       'Feb-97', 'Mar-97', 'Apr-97', 'May-97', 'Jun-97', 'Jul-97',\n",
              "       'Aug-97', 'Sep-97', 'Oct-97', 'Nov-97', 'Dec-97', 'Jan-98',\n",
              "       'Feb-98', 'Mar-98', 'Apr-98', 'May-98', 'Jun-98', 'Jul-98',\n",
              "       'Aug-98', 'Sep-98', 'Oct-98', 'Nov-98', 'Dec-98', 'Jan-99',\n",
              "       'Feb-99', 'Mar-99', 'Apr-99', 'May-99', 'Jun-99', 'Jul-99',\n",
              "       'Aug-99', 'Sep-99', 'Oct-99', 'Nov-99', 'Dec-99', 'Jan-00',\n",
              "       'Feb-00', 'Mar-00', 'Apr-00', 'May-00', 'Jun-00', 'Jul-00',\n",
              "       'Aug-00', 'Sep-00', 'Oct-00', 'Nov-00', 'Dec-00', 'Jan-01',\n",
              "       'Feb-01', 'Mar-01', 'Apr-01', 'May-01', 'Jun-01', 'Jul-01',\n",
              "       'Aug-01', 'Sep-01', 'Oct-01', 'Nov-01', 'Dec-01', 'Jan-02',\n",
              "       'Feb-02', 'Mar-02', 'Apr-02', 'May-02', 'Jun-02', 'Jul-02',\n",
              "       'Aug-02', 'Sep-02', 'Oct-02', 'Nov-02', 'Dec-02', 'Jan-03',\n",
              "       'Feb-03', 'Mar-03', 'Apr-03', 'May-03', 'Jun-03', 'Jul-03',\n",
              "       'Aug-03', 'Sep-03', 'Oct-03', 'Nov-03', 'Dec-03', 'Jan-04',\n",
              "       'Feb-04', 'Mar-04', 'Apr-04', 'May-04', 'Jun-04', 'Jul-04',\n",
              "       'Aug-04', 'Sep-04', 'Oct-04', 'Nov-04', 'Dec-04', 'Jan-05',\n",
              "       'Feb-05', 'Mar-05', 'Apr-05', 'May-05', 'Jun-05', 'Jul-05',\n",
              "       'Aug-05', 'Sep-05', 'Oct-05', 'Nov-05', 'Dec-05', 'Jan-06',\n",
              "       'Feb-06', 'Mar-06', 'Apr-06', 'May-06', 'Jun-06', 'Jul-06',\n",
              "       'Aug-06', 'Sep-06', 'Oct-06', 'Nov-06', 'Dec-06', 'Jan-07',\n",
              "       'Feb-07', 'Mar-07', 'Apr-07', 'May-07', 'Jun-07', 'Jul-07',\n",
              "       'Aug-07', 'Sep-07', 'Oct-07', 'Nov-07', 'Dec-07', 'Jan-08',\n",
              "       'Feb-08', 'Mar-08', 'Apr-08', 'May-08', 'Jun-08', 'Jul-08',\n",
              "       'Aug-08', 'Sep-08', 'Oct-08', 'Nov-08', 'Dec-08', 'Jan-09',\n",
              "       'Feb-09', 'Mar-09', 'Apr-09', 'May-09', 'Jun-09', 'Jul-09',\n",
              "       'Aug-09', 'Sep-09', 'Oct-09', 'Nov-09', 'Dec-09', 'Jan-10',\n",
              "       'Feb-10', 'Mar-10', 'Apr-10', 'May-10', 'Jun-10', 'Jul-10',\n",
              "       'Aug-10', 'Sep-10', 'Oct-10', 'Nov-10', 'Dec-10', 'Jan-11',\n",
              "       'Feb-11', 'Mar-11', 'Apr-11', 'May-11', 'Jun-11', 'Jul-11',\n",
              "       'Aug-11', 'Sep-11', 'Oct-11', 'Nov-11', 'Dec-11', 'Jan-12',\n",
              "       'Feb-12', 'Mar-12', 'Apr-12', 'May-12', 'Jun-12', 'Jul-12',\n",
              "       'Aug-12', 'Sep-12', 'Oct-12', 'Nov-12', 'Dec-12', 'Jan-13',\n",
              "       'Feb-13', 'Mar-13', 'Apr-13', 'May-13', 'Jun-13', 'Jul-13',\n",
              "       'Aug-13', 'Sep-13', 'Oct-13', 'Nov-13', 'Dec-13', 'Jan-14',\n",
              "       'Feb-14', 'Mar-14', 'Apr-14', 'May-14', 'Jun-14', 'Jul-14',\n",
              "       'Aug-14', 'Sep-14', 'Oct-14', 'Nov-14', 'Dec-14', 'Jan-15',\n",
              "       'Feb-15', 'Mar-15', 'Apr-15', 'May-15', 'Jun-15', 'Jul-15',\n",
              "       'Aug-15', 'Sep-15', 'Oct-15', 'Nov-15', 'Dec-15'], dtype=object)"
            ]
          },
          "metadata": {
            "tags": []
          },
          "execution_count": 44
        }
      ]
    },
    {
      "cell_type": "code",
      "metadata": {
        "id": "QdySQ9rw1Q9u",
        "colab_type": "code",
        "colab": {
          "base_uri": "https://localhost:8080/",
          "height": 1000
        },
        "outputId": "67cd35b4-f917-4cff-decb-ec1942fb31a7"
      },
      "source": [
        "\n",
        "\n",
        "dataset_total = pd.concat((dataset_train['RAINFALL_KONKAN & GOA'], dataset_test['RAINFALL_KONKAN & GOA']), axis = 0)\n",
        "\n",
        "inputs = dataset_total[len(dataset_total) - len(dataset_test) - 60:].values\n",
        "inputs = inputs.reshape(-1,1)\n",
        "inputs = sc.transform(inputs)\n",
        "X_test = []\n",
        "for i in range(60,335):\n",
        "    X_test.append(inputs[i-60:i, 0])\n",
        "X_test = np.array(X_test)\n",
        "X_test = np.reshape(X_test, (X_test.shape[0], X_test.shape[1], 1))\n",
        "predicted_stock_price = regressor.predict(X_test)\n",
        "predicted_stock_price = sc.inverse_transform(predicted_stock_price)\n",
        "predicted_stock_price[predicted_stock_price<0] = 0\n",
        "print(predicted_stock_price)\n",
        "\n",
        "\n",
        "\n",
        "results= []                                                        # Converting an array to list as further I have compiled the code in list.\n",
        "for k in predicted_stock_price:\n",
        "  results.append(k[0])\n",
        "print(results)\n",
        "\n",
        "c = []\n",
        "for i in results:                                                  # for getting the accurate data which are above 700mm of rainfall\n",
        "  if i >= 1100:\n",
        "    c.append(i)\n",
        "print(c)\n",
        "p = [i for i,x in enumerate(results) if x >= 1100]                  # for getting the position of data where the data is above 700mm of rainfall\n",
        "print(p)\n",
        "for i in p:                                                        # for printing the months which are having rainfall above 700mm which may cause rainfall\n",
        "  print(dt_1[i])\n",
        "\n",
        "\n",
        "# Visualising the results\n",
        "#KONKAN & GOA Original Rainfall Data\n",
        "#KONKAN & GOA Predicted Rainfall Data\n",
        "if i_val == 1:\n",
        "  plt.plot(real_stock_price, color = 'red', label = '')\n",
        "  plt.plot(predicted_stock_price, color = 'blue', label = '')\n",
        "elif i_val == 2:\n",
        "  plt.plot(real_stock_price, color = 'red', label = 'MADHYA MAHARASHTRA Original Rainfall Data')\n",
        "  plt.plot(predicted_stock_price, color = 'blue', label = 'MADHYA MAHARASHTRA Predicted Rainfall Data')\n",
        "elif i_val == 3:\n",
        "  plt.plot(real_stock_price, color = 'red', label = 'MARATHVADA Original Rainfall Data')\n",
        "  plt.plot(predicted_stock_price, color = 'blue', label = 'MARATHVADA Predicted Rainfall Data')\n",
        "elif i_val == 4:\n",
        "  plt.plot(real_stock_price, color = 'red', label = 'VIDHARBA Original Rainfall Data')\n",
        "  plt.plot(predicted_stock_price, color = 'blue', label = 'VIDHARBA Predicted Rainfall Data')\n",
        "elif i_val == 5:\n",
        "  plt.plot(real_stock_price, color = 'red', label = 'CHHATTISGARH Original Rainfall Data')\n",
        "  plt.plot(predicted_stock_price, color = 'blue', label = 'CHHATTISGARH Predicted Rainfall Data')\n",
        "plt.scatter(p,c, marker='>',label='Warning', c='r')\n",
        "plt.title('Rainfall Prediction')\n",
        "plt.xlabel('Months')\n",
        "plt.ylabel('Rainfall in mm')\n",
        "plt.legend()\n",
        "plt.show()"
      ],
      "execution_count": null,
      "outputs": [
        {
          "output_type": "stream",
          "text": [
            "[[   0.      ]\n",
            " [   0.      ]\n",
            " [   0.      ]\n",
            " [   0.      ]\n",
            " [ 207.05176 ]\n",
            " [ 738.451   ]\n",
            " [ 976.2685  ]\n",
            " [ 579.88556 ]\n",
            " [ 245.03452 ]\n",
            " [  75.2024  ]\n",
            " [   0.      ]\n",
            " [   0.      ]\n",
            " [   0.      ]\n",
            " [   0.      ]\n",
            " [   0.      ]\n",
            " [   0.      ]\n",
            " [ 319.21204 ]\n",
            " [ 979.5524  ]\n",
            " [1121.1752  ]\n",
            " [ 586.8167  ]\n",
            " [ 228.01758 ]\n",
            " [  54.373528]\n",
            " [   0.      ]\n",
            " [   0.      ]\n",
            " [   0.      ]\n",
            " [   0.      ]\n",
            " [   0.      ]\n",
            " [   0.      ]\n",
            " [  59.592804]\n",
            " [ 539.98865 ]\n",
            " [ 996.95856 ]\n",
            " [ 686.2801  ]\n",
            " [ 313.31696 ]\n",
            " [ 120.44231 ]\n",
            " [  25.962173]\n",
            " [   0.      ]\n",
            " [   0.      ]\n",
            " [   0.      ]\n",
            " [   0.      ]\n",
            " [   0.      ]\n",
            " [ 203.20335 ]\n",
            " [ 834.771   ]\n",
            " [1073.9751  ]\n",
            " [ 603.4872  ]\n",
            " [ 260.9644  ]\n",
            " [  89.83087 ]\n",
            " [   7.017839]\n",
            " [   0.      ]\n",
            " [   0.      ]\n",
            " [   0.      ]\n",
            " [   0.      ]\n",
            " [   9.315082]\n",
            " [ 341.5639  ]\n",
            " [ 991.7804  ]\n",
            " [1152.1456  ]\n",
            " [ 635.42145 ]\n",
            " [ 257.49893 ]\n",
            " [  70.64629 ]\n",
            " [   0.      ]\n",
            " [   0.      ]\n",
            " [   0.      ]\n",
            " [   0.      ]\n",
            " [   0.      ]\n",
            " [   0.      ]\n",
            " [ 131.63007 ]\n",
            " [ 635.4001  ]\n",
            " [ 988.32635 ]\n",
            " [ 637.00806 ]\n",
            " [ 271.4203  ]\n",
            " [  83.22306 ]\n",
            " [   0.      ]\n",
            " [   0.      ]\n",
            " [   0.      ]\n",
            " [   0.      ]\n",
            " [   0.      ]\n",
            " [   0.      ]\n",
            " [ 204.64842 ]\n",
            " [ 777.8342  ]\n",
            " [1023.4517  ]\n",
            " [ 578.8938  ]\n",
            " [ 231.92224 ]\n",
            " [  62.684162]\n",
            " [   0.      ]\n",
            " [   0.      ]\n",
            " [   0.      ]\n",
            " [   0.      ]\n",
            " [   0.      ]\n",
            " [   0.      ]\n",
            " [ 218.69183 ]\n",
            " [ 876.8856  ]\n",
            " [1157.5345  ]\n",
            " [ 611.3679  ]\n",
            " [ 234.1462  ]\n",
            " [  59.57167 ]\n",
            " [   0.      ]\n",
            " [   0.      ]\n",
            " [   0.      ]\n",
            " [   0.      ]\n",
            " [   0.      ]\n",
            " [   0.      ]\n",
            " [ 155.25307 ]\n",
            " [ 787.4654  ]\n",
            " [1108.8396  ]\n",
            " [ 602.86884 ]\n",
            " [ 244.57086 ]\n",
            " [  73.54793 ]\n",
            " [   0.      ]\n",
            " [   0.      ]\n",
            " [   0.      ]\n",
            " [   0.      ]\n",
            " [   0.      ]\n",
            " [   0.      ]\n",
            " [ 215.53276 ]\n",
            " [ 879.2381  ]\n",
            " [1103.3258  ]\n",
            " [ 619.63965 ]\n",
            " [ 258.22086 ]\n",
            " [  79.728424]\n",
            " [   0.      ]\n",
            " [   0.      ]\n",
            " [   0.      ]\n",
            " [   0.      ]\n",
            " [   0.      ]\n",
            " [   0.      ]\n",
            " [ 126.49934 ]\n",
            " [ 698.61975 ]\n",
            " [1113.7067  ]\n",
            " [ 741.0737  ]\n",
            " [ 324.0549  ]\n",
            " [ 113.26229 ]\n",
            " [   8.767732]\n",
            " [   0.      ]\n",
            " [   0.      ]\n",
            " [   0.      ]\n",
            " [   0.      ]\n",
            " [   0.      ]\n",
            " [ 143.31085 ]\n",
            " [ 677.15875 ]\n",
            " [1012.1676  ]\n",
            " [ 615.17114 ]\n",
            " [ 259.83163 ]\n",
            " [  82.03642 ]\n",
            " [   0.      ]\n",
            " [   0.      ]\n",
            " [   0.      ]\n",
            " [   0.      ]\n",
            " [   0.      ]\n",
            " [   0.      ]\n",
            " [ 225.68921 ]\n",
            " [ 845.5703  ]\n",
            " [1034.5679  ]\n",
            " [ 553.0503  ]\n",
            " [ 228.14749 ]\n",
            " [  68.343636]\n",
            " [   0.      ]\n",
            " [   0.      ]\n",
            " [   0.      ]\n",
            " [   0.      ]\n",
            " [   0.      ]\n",
            " [   0.      ]\n",
            " [ 321.7336  ]\n",
            " [ 987.7856  ]\n",
            " [1087.3502  ]\n",
            " [ 526.51697 ]\n",
            " [ 194.9894  ]\n",
            " [  40.085594]\n",
            " [   0.      ]\n",
            " [   0.      ]\n",
            " [   0.      ]\n",
            " [   0.      ]\n",
            " [   0.      ]\n",
            " [   0.      ]\n",
            " [ 133.64868 ]\n",
            " [ 769.24786 ]\n",
            " [1114.6952  ]\n",
            " [ 650.42126 ]\n",
            " [ 284.47968 ]\n",
            " [ 102.57519 ]\n",
            " [  13.7023  ]\n",
            " [   0.      ]\n",
            " [   0.      ]\n",
            " [   0.      ]\n",
            " [   0.      ]\n",
            " [   0.      ]\n",
            " [ 190.51443 ]\n",
            " [ 808.57684 ]\n",
            " [1086.2092  ]\n",
            " [ 629.09937 ]\n",
            " [ 263.2142  ]\n",
            " [  83.112045]\n",
            " [   0.      ]\n",
            " [   0.      ]\n",
            " [   0.      ]\n",
            " [   0.      ]\n",
            " [   0.      ]\n",
            " [   0.      ]\n",
            " [  78.69691 ]\n",
            " [ 612.8018  ]\n",
            " [1067.449   ]\n",
            " [ 731.1043  ]\n",
            " [ 334.94193 ]\n",
            " [ 130.90573 ]\n",
            " [  30.143513]\n",
            " [   0.      ]\n",
            " [   0.      ]\n",
            " [   0.      ]\n",
            " [   0.      ]\n",
            " [   0.      ]\n",
            " [  66.56807 ]\n",
            " [ 542.064   ]\n",
            " [1014.71094 ]\n",
            " [ 809.0148  ]\n",
            " [ 419.21826 ]\n",
            " [ 190.23743 ]\n",
            " [  68.50342 ]\n",
            " [   8.907837]\n",
            " [   0.      ]\n",
            " [   0.      ]\n",
            " [   0.      ]\n",
            " [  19.834759]\n",
            " [ 280.4655  ]\n",
            " [ 815.8469  ]\n",
            " [1015.0871  ]\n",
            " [ 588.89777 ]\n",
            " [ 241.31404 ]\n",
            " [  66.43389 ]\n",
            " [   0.      ]\n",
            " [   0.      ]\n",
            " [   0.      ]\n",
            " [   0.      ]\n",
            " [   0.      ]\n",
            " [   0.      ]\n",
            " [ 200.03629 ]\n",
            " [ 813.9556  ]\n",
            " [1121.782   ]\n",
            " [ 673.4636  ]\n",
            " [ 286.6787  ]\n",
            " [  93.22663 ]\n",
            " [   0.      ]\n",
            " [   0.      ]\n",
            " [   0.      ]\n",
            " [   0.      ]\n",
            " [   0.      ]\n",
            " [   0.      ]\n",
            " [ 180.63597 ]\n",
            " [ 741.12854 ]\n",
            " [1034.8854  ]\n",
            " [ 609.6418  ]\n",
            " [ 249.20917 ]\n",
            " [  70.3787  ]\n",
            " [   0.      ]\n",
            " [   0.      ]\n",
            " [   0.      ]\n",
            " [   0.      ]\n",
            " [   0.      ]\n",
            " [   0.      ]\n",
            " [ 157.76193 ]\n",
            " [ 761.2026  ]\n",
            " [1065.9469  ]\n",
            " [ 594.5909  ]\n",
            " [ 247.42421 ]\n",
            " [  78.29543 ]\n",
            " [   0.      ]\n",
            " [   0.      ]\n",
            " [   0.      ]\n",
            " [   0.      ]\n",
            " [   0.      ]\n",
            " [   0.      ]\n",
            " [ 234.06973 ]\n",
            " [ 881.47906 ]\n",
            " [1189.6766  ]\n",
            " [ 637.8945  ]\n",
            " [ 246.53021 ]\n",
            " [  65.881615]\n",
            " [   0.      ]]\n",
            "[0.0, 0.0, 0.0, 0.0, 207.05176, 738.451, 976.2685, 579.88556, 245.03452, 75.2024, 0.0, 0.0, 0.0, 0.0, 0.0, 0.0, 319.21204, 979.5524, 1121.1752, 586.8167, 228.01758, 54.373528, 0.0, 0.0, 0.0, 0.0, 0.0, 0.0, 59.592804, 539.98865, 996.95856, 686.2801, 313.31696, 120.44231, 25.962173, 0.0, 0.0, 0.0, 0.0, 0.0, 203.20335, 834.771, 1073.9751, 603.4872, 260.9644, 89.83087, 7.017839, 0.0, 0.0, 0.0, 0.0, 9.315082, 341.5639, 991.7804, 1152.1456, 635.42145, 257.49893, 70.64629, 0.0, 0.0, 0.0, 0.0, 0.0, 0.0, 131.63007, 635.4001, 988.32635, 637.00806, 271.4203, 83.22306, 0.0, 0.0, 0.0, 0.0, 0.0, 0.0, 204.64842, 777.8342, 1023.4517, 578.8938, 231.92224, 62.684162, 0.0, 0.0, 0.0, 0.0, 0.0, 0.0, 218.69183, 876.8856, 1157.5345, 611.3679, 234.1462, 59.57167, 0.0, 0.0, 0.0, 0.0, 0.0, 0.0, 155.25307, 787.4654, 1108.8396, 602.86884, 244.57086, 73.54793, 0.0, 0.0, 0.0, 0.0, 0.0, 0.0, 215.53276, 879.2381, 1103.3258, 619.63965, 258.22086, 79.728424, 0.0, 0.0, 0.0, 0.0, 0.0, 0.0, 126.49934, 698.61975, 1113.7067, 741.0737, 324.0549, 113.26229, 8.767732, 0.0, 0.0, 0.0, 0.0, 0.0, 143.31085, 677.15875, 1012.1676, 615.17114, 259.83163, 82.03642, 0.0, 0.0, 0.0, 0.0, 0.0, 0.0, 225.68921, 845.5703, 1034.5679, 553.0503, 228.14749, 68.343636, 0.0, 0.0, 0.0, 0.0, 0.0, 0.0, 321.7336, 987.7856, 1087.3502, 526.51697, 194.9894, 40.085594, 0.0, 0.0, 0.0, 0.0, 0.0, 0.0, 133.64868, 769.24786, 1114.6952, 650.42126, 284.47968, 102.57519, 13.7023, 0.0, 0.0, 0.0, 0.0, 0.0, 190.51443, 808.57684, 1086.2092, 629.09937, 263.2142, 83.112045, 0.0, 0.0, 0.0, 0.0, 0.0, 0.0, 78.69691, 612.8018, 1067.449, 731.1043, 334.94193, 130.90573, 30.143513, 0.0, 0.0, 0.0, 0.0, 0.0, 66.56807, 542.064, 1014.71094, 809.0148, 419.21826, 190.23743, 68.50342, 8.907837, 0.0, 0.0, 0.0, 19.834759, 280.4655, 815.8469, 1015.0871, 588.89777, 241.31404, 66.43389, 0.0, 0.0, 0.0, 0.0, 0.0, 0.0, 200.03629, 813.9556, 1121.782, 673.4636, 286.6787, 93.22663, 0.0, 0.0, 0.0, 0.0, 0.0, 0.0, 180.63597, 741.12854, 1034.8854, 609.6418, 249.20917, 70.3787, 0.0, 0.0, 0.0, 0.0, 0.0, 0.0, 157.76193, 761.2026, 1065.9469, 594.5909, 247.42421, 78.29543, 0.0, 0.0, 0.0, 0.0, 0.0, 0.0, 234.06973, 881.47906, 1189.6766, 637.8945, 246.53021, 65.881615, 0.0]\n",
            "[1121.1752, 1152.1456, 1157.5345, 1108.8396, 1103.3258, 1113.7067, 1114.6952, 1121.782, 1189.6766]\n",
            "[18, 54, 90, 102, 114, 126, 174, 234, 270]\n",
            "Aug-94\n",
            "Aug-97\n",
            "Aug-00\n",
            "Aug-01\n",
            "Aug-02\n",
            "Aug-03\n",
            "Aug-07\n",
            "Aug-12\n",
            "Aug-15\n"
          ],
          "name": "stdout"
        },
        {
          "output_type": "display_data",
          "data": {
            "image/png": "[encoded data removed]",
            "text/plain": [
              "<Figure size 432x288 with 1 Axes>"
            ]
          },
          "metadata": {
            "tags": [],
            "needs_background": "light"
          }
        }
      ]
    }
  ]
}